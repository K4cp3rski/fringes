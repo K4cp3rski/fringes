{
 "cells": [
  {
   "cell_type": "code",
   "execution_count": null,
   "metadata": {},
   "outputs": [],
   "source": [
    "%matplotlib widget\n",
    "\n",
    "from PIL import Image\n",
    "import numpy as np\n",
    "import matplotlib.pyplot as plt\n",
    "import matplotlib.cm as cm\n",
    "from mpl_toolkits import mplot3d\n",
    "from scipy.signal import find_peaks\n",
    "import math\n",
    "import os"
   ]
  },
  {
   "cell_type": "code",
   "execution_count": null,
   "metadata": {},
   "outputs": [],
   "source": [
    "slice_heights = [100, 235, 270]"
   ]
  },
  {
   "cell_type": "code",
   "execution_count": null,
   "metadata": {},
   "outputs": [],
   "source": [
    "def moving_average(x, w):\n",
    "    return np.convolve(x, np.ones(w), 'valid') / w"
   ]
  },
  {
   "cell_type": "code",
   "execution_count": null,
   "metadata": {},
   "outputs": [],
   "source": [
    "def load_im(name):\n",
    "    directory = os.getcwd() + \"/data/\" + name\n",
    "    img = plt.imread(directory)\n",
    "    R, G, B = img[:,:,0], img[:,:,1], img[:,:,2]\n",
    "    imgGray = 0.2989 * R + 0.5870 * G + 0.1140 * B\n",
    "    return imgGray"
   ]
  },
  {
   "cell_type": "code",
   "execution_count": null,
   "metadata": {},
   "outputs": [],
   "source": [
    "image = load_im(\"sample.jpeg\")\n",
    "plt.axis('off')\n",
    "plt.imshow(image)"
   ]
  },
  {
   "cell_type": "code",
   "execution_count": null,
   "metadata": {},
   "outputs": [],
   "source": [
    "image.shape"
   ]
  },
  {
   "cell_type": "code",
   "execution_count": null,
   "metadata": {},
   "outputs": [],
   "source": [
    "def remove_noise(arr):\n",
    "    noise = 0.8 * (np.mean(arr))\n",
    "    it = [(lambda x: np.max(x-noise, 0))(i) for i in arr]\n",
    "    no_noise = np.fromiter(it, dtype=float)\n",
    "    no_noise = moving_average(no_noise, 10)\n",
    "    return no_noise"
   ]
  },
  {
   "cell_type": "code",
   "execution_count": null,
   "metadata": {},
   "outputs": [],
   "source": [
    "def extract_fringes(im, hs=slice_heights):\n",
    "    print(\"Beginning processing image ...\")\n",
    "    dis = np.array([remove_noise(im[h]) for h in hs])\n",
    "    peaks = [find_peaks(d, height=10.0) for d in dis]\n",
    "    peak_pos = list(p[0] for p in peaks)\n",
    "    peak_height = list(p[1]['peak_heights'] for p in peaks)\n",
    "    fig, axes = plt.subplots(nrows=1, ncols=3)\n",
    "    \n",
    "    for i, d in enumerate(dis):\n",
    "        img = axes[i]\n",
    "        img.plot(d)\n",
    "        img.scatter(peak_pos[i], peak_height[i])\n",
    "        img.set_ylabel('intensity')\n",
    "        img.set_xlabel('pixel_horizontal_position')\n",
    "        img.set_title(\"intensity distribution at h = {}\".format(hs[i]))\n",
    "        for j,p in enumerate(peak_pos[i]):\n",
    "            img.text(p*(1.0+ 0.00), peak_height[i][j] * (1.0-0.1),  (p, peak_height[i][j]), fontsize=7)\n",
    "        \n",
    "    plt.show()"
   ]
  },
  {
   "cell_type": "code",
   "execution_count": null,
   "metadata": {},
   "outputs": [],
   "source": [
    "def plot_3d_fringes(im):\n",
    "    plt.ioff()\n",
    "    hs=range(0, im.shape[0])\n",
    "    print(\"Beginning processing image ...\")\n",
    "    dis = np.array([remove_noise(im[h]) for h in hs])\n",
    "    peaks = [find_peaks(d, height=10.0) for d in dis]\n",
    "    peak_pos = list(p[0] for p in peaks)\n",
    "    peak_height = list(p[1]['peak_heights'] for p in peaks)\n",
    "    peak_data = np.zeros(im.shape[0])\n",
    "    fig = plt.figure(figsize=(10,10))\n",
    "    ax = plt.axes(projection='3d')\n",
    "    df = np.zeros(shape=im.shape)\n",
    "    X = np.arange(0, dis.shape[1], 1)\n",
    "    Y = np.arange(0, dis.shape[0], 1)\n",
    "    X, Y = np.meshgrid(X, Y)\n",
    "\n",
    "    fig.canvas.toolbar_visible = 'fade-in-fade-out'\n",
    "\n",
    "    \n",
    "    ax.set_title('Contour Plot');\n",
    "    ax.contour3D(X, Y, \n",
    "                 dis, 75, \n",
    "                 cmap='viridis')\n",
    "    plt.ion()\n",
    "    display(fig.canvas)\n",
    "\n",
    "    plt.ioff()\n",
    "    fig = plt.figure(figsize=(10,10))\n",
    "    ax = plt.axes(projection='3d')\n",
    "    ax.set_title('Wireframe Plot');\n",
    "    ax.plot_wireframe(X, Y, \n",
    "                 dis, color='black')\n",
    "    plt.ion()\n",
    "    display(fig.canvas)\n",
    "\n",
    "    plt.ioff()\n",
    "    fig = plt.figure(figsize=(10,10))\n",
    "    ax = plt.axes(projection='3d')\n",
    "    ax.set_title('Surface Plot');\n",
    "    ax.plot_surface(X, Y, \n",
    "                 dis, rstride=1,\n",
    "                    cmap='viridis', edgecolor='none')\n",
    "    plt.ion()\n",
    "    display(fig.canvas)"
   ]
  },
  {
   "cell_type": "code",
   "execution_count": null,
   "metadata": {},
   "outputs": [],
   "source": [
    "plot_3d_fringes(image)"
   ]
  },
  {
   "cell_type": "code",
   "execution_count": null,
   "metadata": {},
   "outputs": [],
   "source": [
    "extract_fringes(image)"
   ]
  }
 ],
 "metadata": {
  "kernelspec": {
   "display_name": "env1",
   "language": "python",
   "name": "env1"
  },
  "language_info": {
   "codemirror_mode": {
    "name": "ipython",
    "version": 3
   },
   "file_extension": ".py",
   "mimetype": "text/x-python",
   "name": "python",
   "nbconvert_exporter": "python",
   "pygments_lexer": "ipython3",
   "version": "3.8.5"
  }
 },
 "nbformat": 4,
 "nbformat_minor": 4
}
